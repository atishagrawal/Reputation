{
 "metadata": {
  "name": "",
  "signature": "sha256:7e59e6bda144e8a5acb099781fd2b27f19a7aceddc770c654f75256594d038bd"
 },
 "nbformat": 3,
 "nbformat_minor": 0,
 "worksheets": [
  {
   "cells": [
    {
     "cell_type": "code",
     "collapsed": false,
     "input": [
      "import reputation_read as rr\n",
      "import reputation_regression as rg\n",
      "import reputation_score as rs\n",
      "import numpy as np\n",
      "from matplotlib import pyplot as py\n",
      "from sklearn.preprocessing import normalize\n",
      "import time\n",
      "\n",
      "reload(rr)\n",
      "reload(rg)\n",
      "reload(rs)"
     ],
     "language": "python",
     "metadata": {},
     "outputs": [
      {
       "output_type": "stream",
       "stream": "stderr",
       "text": [
        "ERROR: Line magic function `%pyplot` not found.\n"
       ]
      }
     ],
     "prompt_number": 57
    },
    {
     "cell_type": "code",
     "collapsed": false,
     "input": [
      "start_time = time.time()\n",
      "\n",
      "sender_data_file = open('/Users/andrewleach/Documents/reputation/testdata/svm_user_stats_all.js')\n",
      "punitive_data_file = open('/Users/andrewleach/Documents/reputation/testdata/svm_punitive_stats.js')\n",
      "sender_stats,row_dict,uid_dict = rr.read_senders(sender_data_file)\n",
      "punitive_actions,col_dict,pa_dict = rr.read_punitive_actions(punitive_data_file,uid_dict)\n",
      "\n",
      "end_time = time.time()\n",
      "print(end_time-start_time)"
     ],
     "language": "python",
     "metadata": {},
     "outputs": [
      {
       "output_type": "stream",
       "stream": "stdout",
       "text": [
        "1011\n",
        "81.807117939\n"
       ]
      }
     ],
     "prompt_number": 33
    },
    {
     "cell_type": "code",
     "collapsed": false,
     "input": [
      "start_time = time.time()\n",
      "\n",
      "stats = sender_stats\n",
      "print(sender_stats[5,:])\n",
      "normalized_stats = rg.normalize(stats,0.01)\n",
      "print(normalized_stats[5,:])\n",
      "reduced_stats,pca = rg.reduce(normalized_stats,0.6)\n",
      "\n",
      "end_time = time.time()\n",
      "print(end_time-start_time)"
     ],
     "language": "python",
     "metadata": {},
     "outputs": [
      {
       "output_type": "stream",
       "stream": "stdout",
       "text": [
        "[  6.66630000e+04   6.36250000e+04   1.93000000e+02   6.10000000e+01\n",
        "   2.40000000e+01   0.00000000e+00   7.96000000e+02   5.71000000e+02\n",
        "   1.79640000e+04   7.93900000e+03   0.00000000e+00   0.00000000e+00\n",
        "   0.00000000e+00   0.00000000e+00   1.00000000e+00   0.00000000e+00\n",
        "   0.00000000e+00   0.00000000e+00]\n",
        "[  6.66630000e+04   9.54427494e-01   2.89515923e-03   9.15050328e-04\n",
        "   3.60019801e-04   0.00000000e+00   4.43108439e-02   3.17857938e-02\n",
        "   2.82341847e-01   1.24777996e-01   0.00000000e+00   0.00000000e+00\n",
        "   0.00000000e+00   0.00000000e+00   1.50008250e-03   0.00000000e+00\n",
        "   0.00000000e+00   0.00000000e+00]"
       ]
      },
      {
       "output_type": "stream",
       "stream": "stdout",
       "text": [
        "\n",
        "0.130401134491"
       ]
      },
      {
       "output_type": "stream",
       "stream": "stdout",
       "text": [
        "\n"
       ]
      }
     ],
     "prompt_number": 34
    },
    {
     "cell_type": "code",
     "collapsed": false,
     "input": [
      "start_time = time.time()\n",
      "\n",
      "# Scramble order to ma, makes dictionaries useless though\n",
      "permuted_indices = np.random.permutation(reduced_stats.shape[0])\n",
      "\n",
      "reduced_stats = reduced_stats[permuted_indices,:]\n",
      "punitive_actions = punitive_actions[permuted_indices,:]\n",
      "\n",
      "middle = reduced_stats.shape[0]/2\n",
      "train_stats = reduced_stats[0:middle,:]\n",
      "test_stats = reduced_stats[middle::,:]\n",
      "train_pa = punitive_actions[0:middle,:]\n",
      "test_pa = punitive_actions[middle::,:]\n",
      "\n",
      "end_time = time.time()\n",
      "print(end_time-start_time)"
     ],
     "language": "python",
     "metadata": {},
     "outputs": [
      {
       "output_type": "stream",
       "stream": "stdout",
       "text": [
        "0.0273969173431\n"
       ]
      }
     ],
     "prompt_number": 35
    },
    {
     "cell_type": "code",
     "collapsed": false,
     "input": [
      "start_time = time.time()\n",
      "\n",
      "trained_svr = rg.train(train_stats,train_pa,epsilon=0.001,degree=3)\n",
      "\n",
      "end_time = time.time()\n",
      "print(end_time-start_time)"
     ],
     "language": "python",
     "metadata": {},
     "outputs": [
      {
       "output_type": "stream",
       "stream": "stdout",
       "text": [
        "3.84833097458\n"
       ]
      }
     ],
     "prompt_number": 36
    },
    {
     "cell_type": "code",
     "collapsed": false,
     "input": [
      "start_time = time.time()\n",
      "\n",
      "predicted_pa = rg.regress(trained_svr,test_stats)\n",
      "\n",
      "end_time = time.time()\n",
      "print(end_time-start_time)"
     ],
     "language": "python",
     "metadata": {},
     "outputs": [
      {
       "output_type": "stream",
       "stream": "stdout",
       "text": [
        "0.959704875946\n"
       ]
      }
     ],
     "prompt_number": 37
    },
    {
     "cell_type": "code",
     "collapsed": false,
     "input": [
      "start_time = time.time()\n",
      "\n",
      "weak_error = rg.evaluate(predicted_pa,test_pa,'weak')\n",
      "print(weak_error)\n",
      "\n",
      "strong_error = rg.evaluate(predicted_pa,test_pa,'strong')\n",
      "print(strong_error)\n",
      "\n",
      "end_time = time.time()\n",
      "print(end_time-start_time)"
     ],
     "language": "python",
     "metadata": {},
     "outputs": [
      {
       "output_type": "stream",
       "stream": "stdout",
       "text": [
        "0.00271165050829\n",
        "0.00443353472054\n",
        "0.00294899940491\n"
       ]
      }
     ],
     "prompt_number": 38
    },
    {
     "cell_type": "code",
     "collapsed": false,
     "input": [
      "np.sum(train_pa,0)"
     ],
     "language": "python",
     "metadata": {},
     "outputs": [
      {
       "metadata": {},
       "output_type": "pyout",
       "prompt_number": 39,
       "text": [
        "array([ 8.,  7.,  1.,  2.,  1.])"
       ]
      }
     ],
     "prompt_number": 39
    },
    {
     "cell_type": "code",
     "collapsed": false,
     "input": [
      "np.sum(test_pa,0)"
     ],
     "language": "python",
     "metadata": {},
     "outputs": [
      {
       "metadata": {},
       "output_type": "pyout",
       "prompt_number": 40,
       "text": [
        "array([ 17.,   4.,   1.,   1.,   1.])"
       ]
      }
     ],
     "prompt_number": 40
    },
    {
     "cell_type": "code",
     "collapsed": false,
     "input": [
      "np.sum(predicted_pa,0)"
     ],
     "language": "python",
     "metadata": {},
     "outputs": [
      {
       "metadata": {},
       "output_type": "pyout",
       "prompt_number": 41,
       "text": [
        "array([ 36.64992639,  33.51916292,  18.14856249,  38.10419874,  15.62513273])"
       ]
      }
     ],
     "prompt_number": 41
    },
    {
     "cell_type": "code",
     "collapsed": false,
     "input": [
      "nzindex = np.argmax(test_pa[:,0])"
     ],
     "language": "python",
     "metadata": {},
     "outputs": [],
     "prompt_number": 50
    },
    {
     "cell_type": "code",
     "collapsed": false,
     "input": [
      "print(test_pa[nzindex,:])\n",
      "print(predicted_pa[nzindex,:])\n",
      "print()"
     ],
     "language": "python",
     "metadata": {},
     "outputs": [
      {
       "output_type": "stream",
       "stream": "stdout",
       "text": [
        "[ 1.  0.  0.  0.  0.]\n",
        "[ 0.00150317  0.00168862  0.00087793  0.00195676  0.00075586]\n"
       ]
      }
     ],
     "prompt_number": 54
    },
    {
     "cell_type": "code",
     "collapsed": false,
     "input": [
      "#NOTE: NEED TO FIX DEGREE ISSUE, ALTERING DEGREE DOES NOT CAUSE DEGREE OF SVR TO CHANGE"
     ],
     "language": "python",
     "metadata": {},
     "outputs": [],
     "prompt_number": 12
    },
    {
     "cell_type": "code",
     "collapsed": false,
     "input": [
      "py.pcolor(np.corrcoef(normalized_stats.T))\n",
      "py.show()"
     ],
     "language": "python",
     "metadata": {},
     "outputs": [],
     "prompt_number": 48
    },
    {
     "cell_type": "code",
     "collapsed": false,
     "input": [],
     "language": "python",
     "metadata": {},
     "outputs": []
    }
   ],
   "metadata": {}
  }
 ]
}